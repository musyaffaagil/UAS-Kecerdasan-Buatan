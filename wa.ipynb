    "cells": [
        {
            "cell_type": "code",
            "execution_count": None,
            "metadata": {},
            "outputs": [],
            "source": [
                "import numpy as np\n",
                "import skfuzzy as fuzz\n",
                "from skfuzzy import control as ctrl\n\n",
                "# Input Fuzzy Variables\n",
                "pendapatan = ctrl.Antecedent(np.arange(0, 11001, 1), 'pendapatan')\n",
                "utang = ctrl.Antecedent(np.arange(0, 101, 1), 'utang')\n",
                "riwayat = ctrl.Antecedent(np.arange(0, 11, 1), 'riwayat')\n\n",
                "# Output Fuzzy Variable\n",
                "kelayakan = ctrl.Consequent(np.arange(0, 101, 1), 'kelayakan')\n\n",
                "# Membership Functions\n",
                "pendapatan['rendah'] = fuzz.trapmf(pendapatan.universe, [0, 0, 2000, 4000])\n",
                "pendapatan['sedang'] = fuzz.trimf(pendapatan.universe, [3000, 6000, 9000])\n",
                "pendapatan['tinggi'] = fuzz.trapmf(pendapatan.universe, [8000, 10000, 11000, 11000])\n\n",
                "utang['rendah'] = fuzz.trapmf(utang.universe, [0, 0, 20, 40])\n",
                "utang['sedang'] = fuzz.trimf(utang.universe, [30, 50, 70])\n",
                "utang['tinggi'] = fuzz.trapmf(utang.universe, [60, 80, 100, 100])\n\n",
                "riwayat['buruk'] = fuzz.trapmf(riwayat.universe, [0, 0, 3, 5])\n",
                "riwayat['sedang'] = fuzz.trimf(riwayat.universe, [4, 5, 7])\n",
                "riwayat['baik'] = fuzz.trapmf(riwayat.universe, [6, 8, 10, 10])\n\n",
                "kelayakan['tidak layak'] = fuzz.trapmf(kelayakan.universe, [0, 0, 25, 50])\n",
                "kelayakan['layak'] = fuzz.trimf(kelayakan.universe, [40, 60, 80])\n",
                "kelayakan['sangat layak'] = fuzz.trapmf(kelayakan.universe, [70, 90, 100, 100])\n\n",
                "# Rules\n",
                "rule1 = ctrl.Rule(pendapatan['rendah'] & utang['tinggi'] & riwayat['buruk'], kelayakan['tidak layak'])\n",
                "rule2 = ctrl.Rule(pendapatan['tinggi'] & utang['rendah'] & riwayat['baik'], kelayakan['sangat layak'])\n",
                "rule3 = ctrl.Rule(pendapatan['sedang'] & utang['sedang'] & riwayat['sedang'], kelayakan['layak'])\n",
                "rule4 = ctrl.Rule(pendapatan['rendah'] | utang['tinggi'], kelayakan['tidak layak'])\n",
                "rule5 = ctrl.Rule(utang['rendah'] & riwayat['baik'], kelayakan['layak'])\n\n",
                "# Control System\n",
                "kelayakan_ctrl = ctrl.ControlSystem([rule1, rule2, rule3, rule4, rule5])\n",
                "kelayakan_simulasi = ctrl.ControlSystemSimulation(kelayakan_ctrl)\n\n",
                "# Input Values\n",
                "kelayakan_simulasi.input['pendapatan'] = 6000\n",
                "kelayakan_simulasi.input['utang'] = 30\n",
                "kelayakan_simulasi.input['riwayat'] = 7\n\n",
                "# Compute\n",
                "kelayakan_simulasi.compute()\n\n",
                "# Output Result\n",
                "print(\"Hasil Kelayakan Kredit:\", kelayakan_simulasi.output['kelayakan'])"
            ]
        }
    ],
    "metadata": {
        "kernelspec": {
            "display_name": "Python 3",
            "language": "python",
            "name": "python3"
        },
        "language_info": {
            "codemirror_mode": {
                "name": "ipython",
                "version": 3
            },
            "file_extension": ".py",
            "mimetype": "text/x-python",
            "name": "python",
            "nbconvert_exporter": "python",
            "pygments_lexer": "ipython3",
            "version": "3.8.5"
        }
    },
    "nbformat": 4,
    "nbformat_minor": 2
}
