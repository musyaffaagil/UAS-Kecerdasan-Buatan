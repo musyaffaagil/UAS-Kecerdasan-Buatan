import numpy as np
import skfuzzy as fuzz
from skfuzzy import control as ctrl
import matplotlib.pyplot as plt

kehadiran = ctrl.Antecedent(np.arange(0, 101, 1), 'kehadiran')
tugas = ctrl.Antecedent(np.arange(0, 101, 1), 'tugas')
ujian = ctrl.Antecedent(np.arange(0, 101, 1), 'ujian')
kinerja = ctrl.Consequent(np.arange(0, 101, 1), 'kinerja')

kehadiran['low'] = fuzz.trimf(kehadiran.universe, [0, 0, 50])
kehadiran['medium'] = fuzz.trimf(kehadiran.universe, [30, 50, 70])
kehadiran['high'] = fuzz.trimf(kehadiran.universe, [50, 100, 100])

tugas['low'] = fuzz.trimf(tugas.universe, [0, 0, 50])
tugas['medium'] = fuzz.trimf(tugas.universe, [30, 50, 70])
tugas['high'] = fuzz.trimf(tugas.universe, [50, 100, 100])

ujian['low'] = fuzz.trimf(ujian.universe, [0, 0, 50])
ujian['medium'] = fuzz.trimf(ujian.universe, [30, 50, 70])
ujian['high'] = fuzz.trimf(ujian.universe, [50, 100, 100])

kinerja['poor'] = fuzz.trimf(kinerja.universe, [0, 0, 50])
kinerja['average'] = fuzz.trimf(kinerja.universe, [30, 50, 70])
kinerja['excellent'] = fuzz.trimf(kinerja.universe, [50, 100, 100])

rule1 = ctrl.Rule(kehadiran['low'] | tugas['low'] | ujian['low'], kinerja['poor'])
rule2 = ctrl.Rule(kehadiran['medium'] & tugas['medium'] & ujian['medium'], kinerja['average'])
rule3 = ctrl.Rule(kehadiran['high'] & tugas['high'] & ujian['high'], kinerja['excellent'])

kinerja_ctrl = ctrl.ControlSystem([rule1, rule2, rule3])
kinerja_simulation = ctrl.ControlSystemSimulation(kinerja_ctrl)

kinerja_simulation.input['kehadiran'] = 85
kinerja_simulation.input['tugas'] = 75
kinerja_simulation.input['ujian'] = 90

kinerja_simulation.compute()

output_kinerja = kinerja_simulation.output['kinerja']
print(f"Kinerja Mahasiswa: {output_kinerja:.2f}")

fig, axes = plt.subplots(2, 2, figsize=(12, 10))

kehadiran.view(ax=axes[0, 0])
axes[0, 0].set_title('Membership Function for Kehadiran')

tugas.view(ax=axes[0, 1])
axes[0, 1].set_title('Membership Function for Tugas')

ujian.view(ax=axes[1, 0])
axes[1, 0].set_title('Membership Function for Ujian')

kinerja.view(ax=axes[1, 1])
axes[1, 1].set_title('Membership Function for Kinerja')

plt.tight_layout()
plt.show()

kinerja.view(sim=kinerja_simulation)
plt.title("Output Kinerja Mahasiswa")
plt.show()
